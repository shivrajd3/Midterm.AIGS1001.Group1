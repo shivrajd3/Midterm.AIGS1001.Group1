{
 "cells": [
  {
   "cell_type": "markdown",
   "id": "5fcd1d9e-f925-4cd4-ac91-2c90171c66b2",
   "metadata": {},
   "source": [
    "## qn 1"
   ]
  },
  {
   "cell_type": "code",
   "execution_count": 1,
   "id": "91fddd0b-9545-4640-b05a-164b9f9af2b3",
   "metadata": {},
   "outputs": [],
   "source": [
    "Dat = read.table('GPA.txt', header=F)"
   ]
  },
  {
   "cell_type": "code",
   "execution_count": 2,
   "id": "6f20a288-b9d6-42da-83ab-0cb8ca75e98d",
   "metadata": {},
   "outputs": [],
   "source": [
    "names(Dat) <- c('GPA', 'ACT')"
   ]
  },
  {
   "cell_type": "code",
   "execution_count": 3,
   "id": "f836b08d-7949-4249-b6dc-a31493b466ff",
   "metadata": {},
   "outputs": [],
   "source": [
    "GPA = c(\"GPA\")\n",
    "ACT = c(\"ACT\")"
   ]
  },
  {
   "cell_type": "code",
   "execution_count": 4,
   "id": "09c38ec0-6c56-4fd4-8d69-d736d7462056",
   "metadata": {},
   "outputs": [
    {
     "data": {
      "text/html": [
       "<table>\n",
       "<thead><tr><th scope=col>GPA</th><th scope=col>ACT</th></tr></thead>\n",
       "<tbody>\n",
       "\t<tr><td>3.897</td><td>21   </td></tr>\n",
       "\t<tr><td>3.885</td><td>14   </td></tr>\n",
       "\t<tr><td>3.778</td><td>28   </td></tr>\n",
       "\t<tr><td>2.540</td><td>22   </td></tr>\n",
       "\t<tr><td>3.028</td><td>21   </td></tr>\n",
       "</tbody>\n",
       "</table>\n"
      ],
      "text/latex": [
       "\\begin{tabular}{r|ll}\n",
       " GPA & ACT\\\\\n",
       "\\hline\n",
       "\t 3.897 & 21   \\\\\n",
       "\t 3.885 & 14   \\\\\n",
       "\t 3.778 & 28   \\\\\n",
       "\t 2.540 & 22   \\\\\n",
       "\t 3.028 & 21   \\\\\n",
       "\\end{tabular}\n"
      ],
      "text/markdown": [
       "\n",
       "| GPA | ACT |\n",
       "|---|---|\n",
       "| 3.897 | 21    |\n",
       "| 3.885 | 14    |\n",
       "| 3.778 | 28    |\n",
       "| 2.540 | 22    |\n",
       "| 3.028 | 21    |\n",
       "\n"
      ],
      "text/plain": [
       "  GPA   ACT\n",
       "1 3.897 21 \n",
       "2 3.885 14 \n",
       "3 3.778 28 \n",
       "4 2.540 22 \n",
       "5 3.028 21 "
      ]
     },
     "metadata": {},
     "output_type": "display_data"
    }
   ],
   "source": [
    "head(Dat, 5)"
   ]
  },
  {
   "cell_type": "markdown",
   "id": "b1364e6d-c483-4bcc-9d94-1e91c545f538",
   "metadata": {},
   "source": [
    "## (a)"
   ]
  },
  {
   "cell_type": "markdown",
   "id": "3d70c2a5-ac3b-4910-b386-761f8bfb8ced",
   "metadata": {},
   "source": [
    "#### An independent variable is the variable you manipulate, control, or vary in an experimental study to explore its effects."
   ]
  },
  {
   "cell_type": "markdown",
   "id": "9c21a6ef-70b0-4aa4-a311-8a9ea6acddac",
   "metadata": {},
   "source": [
    "#### ACT test score is the explanatory variable in this case."
   ]
  },
  {
   "cell_type": "markdown",
   "id": "c66be8e2-08bb-40e7-bc28-0b503644265d",
   "metadata": {},
   "source": [
    "## (b)"
   ]
  },
  {
   "cell_type": "markdown",
   "id": "113a0c25-8ede-4df2-a192-8d066a62d001",
   "metadata": {},
   "source": [
    "### Mean of GPA"
   ]
  },
  {
   "cell_type": "code",
   "execution_count": 5,
   "id": "f6e77bd9-19d5-427c-8a63-94bb675309b8",
   "metadata": {},
   "outputs": [
    {
     "data": {
      "text/html": [
       "3.07405"
      ],
      "text/latex": [
       "3.07405"
      ],
      "text/markdown": [
       "3.07405"
      ],
      "text/plain": [
       "[1] 3.07405"
      ]
     },
     "metadata": {},
     "output_type": "display_data"
    }
   ],
   "source": [
    "# head(Dat$GPA)\n",
    "mean(Dat$GPA)"
   ]
  },
  {
   "cell_type": "markdown",
   "id": "098898c3-dd47-4d90-aa41-249c02ace282",
   "metadata": {},
   "source": [
    "## (c)"
   ]
  },
  {
   "cell_type": "markdown",
   "id": "1ab17cbf-a594-4880-a643-370cd71ba3ab",
   "metadata": {},
   "source": [
    "#### The predicted variable is the GPA so the mean of GPA is"
   ]
  },
  {
   "cell_type": "code",
   "execution_count": 6,
   "id": "d713a353-6f5e-4d9b-806f-71fd7c5bbfe5",
   "metadata": {},
   "outputs": [
    {
     "data": {
      "text/html": [
       "3.07405"
      ],
      "text/latex": [
       "3.07405"
      ],
      "text/markdown": [
       "3.07405"
      ],
      "text/plain": [
       "[1] 3.07405"
      ]
     },
     "metadata": {},
     "output_type": "display_data"
    }
   ],
   "source": [
    "mean(Dat$GPA)"
   ]
  },
  {
   "cell_type": "markdown",
   "id": "b2b061b4-2f40-4852-86d0-491439f1e235",
   "metadata": {},
   "source": [
    "## (d)"
   ]
  },
  {
   "cell_type": "markdown",
   "id": "99a8c6df-0a6f-4f0b-9362-50c7d34f6d12",
   "metadata": {},
   "source": [
    "#### Variance of ACT"
   ]
  },
  {
   "cell_type": "code",
   "execution_count": 7,
   "id": "643d684b-0bfb-403b-b2de-efc1901ed503",
   "metadata": {},
   "outputs": [
    {
     "data": {
      "text/html": [
       "19.9993697478992"
      ],
      "text/latex": [
       "19.9993697478992"
      ],
      "text/markdown": [
       "19.9993697478992"
      ],
      "text/plain": [
       "[1] 19.99937"
      ]
     },
     "metadata": {},
     "output_type": "display_data"
    }
   ],
   "source": [
    "var(Dat$ACT)"
   ]
  },
  {
   "cell_type": "markdown",
   "id": "1f533f35-89da-46f8-b7e1-7ac33046e4f2",
   "metadata": {},
   "source": [
    "#### Variance of GPA"
   ]
  },
  {
   "cell_type": "code",
   "execution_count": 8,
   "id": "d5bd0732-1c4a-4050-8b6d-03471e77ce57",
   "metadata": {},
   "outputs": [
    {
     "data": {
      "text/html": [
       "0.415171879831933"
      ],
      "text/latex": [
       "0.415171879831933"
      ],
      "text/markdown": [
       "0.415171879831933"
      ],
      "text/plain": [
       "[1] 0.4151719"
      ]
     },
     "metadata": {},
     "output_type": "display_data"
    }
   ],
   "source": [
    "var(Dat$GPA)"
   ]
  },
  {
   "cell_type": "markdown",
   "id": "f982e48d-21bc-42dd-9625-c46960c2f3d7",
   "metadata": {},
   "source": [
    "## (e)"
   ]
  },
  {
   "cell_type": "code",
   "execution_count": 9,
   "id": "79ca5f8b-4b3d-4870-87df-aed2aa1c0350",
   "metadata": {},
   "outputs": [
    {
     "data": {
      "text/plain": [
       "\n",
       "\tPearson's product-moment correlation\n",
       "\n",
       "data:  Dat$ACT and Dat$ACT\n",
       "t = 515472965, df = 118, p-value < 2.2e-16\n",
       "alternative hypothesis: true correlation is not equal to 0\n",
       "95 percent confidence interval:\n",
       " 1 1\n",
       "sample estimates:\n",
       "cor \n",
       "  1 \n"
      ]
     },
     "metadata": {},
     "output_type": "display_data"
    }
   ],
   "source": [
    "cor.test(Dat$ACT, Dat$ACT)"
   ]
  },
  {
   "cell_type": "markdown",
   "id": "97cca434-7899-46b3-8829-9c17e333c791",
   "metadata": {},
   "source": [
    "#### For the explanatory variable, the correlation will always be 1 with itself."
   ]
  },
  {
   "cell_type": "code",
   "execution_count": 10,
   "id": "d3dd5380",
   "metadata": {},
   "outputs": [
    {
     "data": {
      "text/html": [
       "<table>\n",
       "<thead><tr><th></th><th scope=col>GPA</th><th scope=col>ACT</th></tr></thead>\n",
       "<tbody>\n",
       "\t<tr><th scope=row>GPA</th><td>1.0000000</td><td>0.2694818</td></tr>\n",
       "\t<tr><th scope=row>ACT</th><td>0.2694818</td><td>1.0000000</td></tr>\n",
       "</tbody>\n",
       "</table>\n"
      ],
      "text/latex": [
       "\\begin{tabular}{r|ll}\n",
       "  & GPA & ACT\\\\\n",
       "\\hline\n",
       "\tGPA & 1.0000000 & 0.2694818\\\\\n",
       "\tACT & 0.2694818 & 1.0000000\\\\\n",
       "\\end{tabular}\n"
      ],
      "text/markdown": [
       "\n",
       "| <!--/--> | GPA | ACT |\n",
       "|---|---|---|\n",
       "| GPA | 1.0000000 | 0.2694818 |\n",
       "| ACT | 0.2694818 | 1.0000000 |\n",
       "\n"
      ],
      "text/plain": [
       "    GPA       ACT      \n",
       "GPA 1.0000000 0.2694818\n",
       "ACT 0.2694818 1.0000000"
      ]
     },
     "metadata": {},
     "output_type": "display_data"
    }
   ],
   "source": [
    "cor(Dat)"
   ]
  },
  {
   "cell_type": "markdown",
   "id": "f490372d-4e67-4afd-98a6-a6f05358ca79",
   "metadata": {},
   "source": [
    "## (f)"
   ]
  },
  {
   "cell_type": "code",
   "execution_count": 11,
   "id": "9ef7e81e-a6a3-4e35-8f60-ab9b11d9a54f",
   "metadata": {},
   "outputs": [
    {
     "data": {
      "text/plain": [
       "\n",
       "\tPearson's product-moment correlation\n",
       "\n",
       "data:  Dat$ACT and Dat$GPA\n",
       "t = 3.0398, df = 118, p-value = 0.002917\n",
       "alternative hypothesis: true correlation is not equal to 0\n",
       "95 percent confidence interval:\n",
       " 0.09482051 0.42804747\n",
       "sample estimates:\n",
       "      cor \n",
       "0.2694818 \n"
      ]
     },
     "metadata": {},
     "output_type": "display_data"
    }
   ],
   "source": [
    "cor.test(Dat$ACT, Dat$GPA)"
   ]
  },
  {
   "cell_type": "markdown",
   "id": "9f5a6206-b119-4ccf-8ab6-b58b7979a46f",
   "metadata": {},
   "source": [
    "#### The correlation co-efficient between ACT and GPA is 0.2694818"
   ]
  },
  {
   "cell_type": "markdown",
   "id": "d468e3d5-d2c3-4242-a002-b1f4436130c5",
   "metadata": {},
   "source": [
    "## (g)"
   ]
  },
  {
   "cell_type": "markdown",
   "id": "135a4150-392b-4d2d-b173-f65af68e8e9c",
   "metadata": {},
   "source": [
    "#### The correlation co-efficient is 0.2694818 which is close to 0 implies that there is a very little positive correlation between ACT and GPA scores."
   ]
  },
  {
   "cell_type": "markdown",
   "id": "8f73ecbf-37a1-4df3-a870-ce3aa401ce8e",
   "metadata": {},
   "source": [
    "## (h)"
   ]
  },
  {
   "cell_type": "markdown",
   "id": "b90d442b-4b9e-4e4a-ac2f-314a8a020a8d",
   "metadata": {},
   "source": [
    "#### In this case, we have one independent and one dependent variable with probably some amount of bias."
   ]
  },
  {
   "cell_type": "markdown",
   "id": "967c1897-9669-447a-9e75-6a15fd7a9b80",
   "metadata": {},
   "source": [
    "#### We can represent the simple linear regression model using the equation:\n",
    "##### y = mx + c\n",
    "##### where y = dependent variable (GPA)\n",
    "##### and x = independent variable (ACT)\n",
    "##### m is the slope of the line fitting the data\n",
    "##### c is the y-intercept "
   ]
  },
  {
   "cell_type": "markdown",
   "id": "b271f6e1-557c-45cc-bc36-0919d670a5e0",
   "metadata": {},
   "source": [
    "## (i)"
   ]
  },
  {
   "cell_type": "markdown",
   "id": "90f8ea16-2f0a-42b7-9bde-6ac2fd76cdd5",
   "metadata": {},
   "source": [
    "#### Using lm function to fit the simple linear regression"
   ]
  },
  {
   "cell_type": "code",
   "execution_count": 12,
   "id": "09f5ceb7-7114-4212-97f3-0a26bc8a4309",
   "metadata": {},
   "outputs": [
    {
     "data": {
      "text/plain": [
       "\n",
       "Call:\n",
       "lm(formula = Dat$GPA ~ Dat$ACT, data = Dat)\n",
       "\n",
       "Coefficients:\n",
       "(Intercept)      Dat$ACT  \n",
       "    2.11405      0.03883  \n"
      ]
     },
     "metadata": {},
     "output_type": "display_data"
    }
   ],
   "source": [
    "regModel = lm(formula = Dat$GPA ~ Dat$ACT, data = Dat)\n",
    "regModel"
   ]
  },
  {
   "cell_type": "markdown",
   "id": "0052ca26-3e29-4799-bf7a-68b7daa11206",
   "metadata": {},
   "source": [
    "## (j)"
   ]
  },
  {
   "cell_type": "markdown",
   "id": "3d8a364d-2c9f-4f7c-8b38-755e9fa9c043",
   "metadata": {},
   "source": [
    "#### Using the results in 3.i, we can infer that the slope m = 0.03883\n",
    "#### and the y-intercept (bias) b = 2.11405"
   ]
  },
  {
   "cell_type": "markdown",
   "id": "a4919432-8f2e-4e72-b937-f6683ccedd3f",
   "metadata": {},
   "source": [
    "## (k)"
   ]
  },
  {
   "cell_type": "code",
   "execution_count": 13,
   "id": "d97e517d-a254-4e82-9ee3-984ea7030d2a",
   "metadata": {},
   "outputs": [
    {
     "data": {
      "image/png": "[encoded data removed]",
      "text/plain": [
       "plot without title"
      ]
     },
     "metadata": {},
     "output_type": "display_data"
    }
   ],
   "source": [
    "plot(Dat$ACT, Dat$GPA)\n",
    "abline(regModel$coef[1], regModel$coef[2], col = \"red\", lwd = 2)"
   ]
  },
  {
   "cell_type": "markdown",
   "id": "e23b16c8-13a0-4836-968f-e37ed94e9779",
   "metadata": {},
   "source": [
    "## (l)"
   ]
  },
  {
   "cell_type": "markdown",
   "id": "7b492e63-f475-4cca-a6d6-611ed3e351f4",
   "metadata": {},
   "source": [
    "#### The slope of the fitted model is positive showing that as the ACT increases the GPA increases."
   ]
  },
  {
   "cell_type": "markdown",
   "id": "6463a343-aa86-421c-8c56-c4e702e8a443",
   "metadata": {},
   "source": [
    "## (m)"
   ]
  },
  {
   "cell_type": "markdown",
   "id": "38399658-8408-4ea2-9ffd-8bd64de6a192",
   "metadata": {},
   "source": [
    "#### While training linear regression models, hypothesis testing is done to determine whether the relationship between the response and each of the predictor variables is statistically significant or otherwise. The coefficients related to each of the predictor variables is determined. Then, individual hypothesis tests are done to determine whether the relationship between response and that particular predictor variable is statistically significant based on the sample data used for training the model. If at least one of the null hypotheses is rejected, it represents the fact that there exists no relationship between response and that particular predictor variable. T-statistics is used for performing the hypothesis testing because the standard deviation of the sampling distribution is unknown. The value of t-statistics is compared with the critical value from the t-distribution table in order to make a decision about whether to accept or reject the null hypothesis regarding the relationship between the response and predictor variables. If the value falls in the critical region, then the null hypothesis is rejected which means that there is no relationship between response and that predictor variable. In addition to T-tests, F-test is performed to test the null hypothesis that the linear regression model does not exist and that the value of all the coefficients is zero (0)."
   ]
  },
  {
   "cell_type": "markdown",
   "id": "5f81f0a1-ebe1-425e-9d2e-91c24f58de9f",
   "metadata": {},
   "source": [
    "## (n)"
   ]
  },
  {
   "cell_type": "code",
   "execution_count": 14,
   "id": "94674702-1198-4c99-b0ca-f0aa238d1aa7",
   "metadata": {},
   "outputs": [],
   "source": [
    "oneway = aov(Dat$GPA ~ Dat$ACT, data=Dat)"
   ]
  },
  {
   "cell_type": "code",
   "execution_count": 15,
   "id": "1941f840-1cb5-450b-976c-c22488edd361",
   "metadata": {},
   "outputs": [
    {
     "data": {
      "text/plain": [
       "             Df Sum Sq Mean Sq F value  Pr(>F)   \n",
       "Dat$ACT       1   3.59   3.588    9.24 0.00292 **\n",
       "Residuals   118  45.82   0.388                   \n",
       "---\n",
       "Signif. codes:  0 '***' 0.001 '**' 0.01 '*' 0.05 '.' 0.1 ' ' 1"
      ]
     },
     "metadata": {},
     "output_type": "display_data"
    }
   ],
   "source": [
    "summary(oneway)"
   ]
  },
  {
   "cell_type": "markdown",
   "id": "48233841-a137-4e97-97fb-c7717c4bb129",
   "metadata": {},
   "source": [
    "#### Mean sq. errors for ACT and Residuals are: 3.588 and 0.388 respectively"
   ]
  },
  {
   "cell_type": "markdown",
   "id": "386a0218-109f-484c-9d25-5a3bb15f180f",
   "metadata": {},
   "source": [
    "## (o)"
   ]
  },
  {
   "cell_type": "markdown",
   "id": "5adf93d8-8179-47ed-8586-0d5e4be2ee03",
   "metadata": {},
   "source": [
    "#### It is true that the t-test is used to compare the means of two populations while f-test is used to compare two population variances."
   ]
  },
  {
   "cell_type": "markdown",
   "id": "110483eb",
   "metadata": {},
   "source": [
    "#### A t-test is a form of the statistical hypothesis test, based on Student’s t-statistic and t-distribution to find out the p-value (probability) which can be used to accept or reject the null hypothesis."
   ]
  },
  {
   "cell_type": "markdown",
   "id": "298ff296",
   "metadata": {},
   "source": [
    "#### F-test is used to test if the data conforms to a regression model, which is acquired through least square analysis. \n",
    "\n"
   ]
  },
  {
   "cell_type": "markdown",
   "id": "a6729c98",
   "metadata": {},
   "source": [
    "## (p)"
   ]
  },
  {
   "cell_type": "code",
   "execution_count": 16,
   "id": "9bc51a8f",
   "metadata": {},
   "outputs": [
    {
     "data": {
      "text/plain": [
       "\n",
       "Call:\n",
       "lm(formula = Dat$GPA ~ Dat$ACT, data = Dat)\n",
       "\n",
       "Residuals:\n",
       "     Min       1Q   Median       3Q      Max \n",
       "-2.74004 -0.33827  0.04062  0.44064  1.22737 \n",
       "\n",
       "Coefficients:\n",
       "            Estimate Std. Error t value Pr(>|t|)    \n",
       "(Intercept)  2.11405    0.32089   6.588  1.3e-09 ***\n",
       "Dat$ACT      0.03883    0.01277   3.040  0.00292 ** \n",
       "---\n",
       "Signif. codes:  0 '***' 0.001 '**' 0.01 '*' 0.05 '.' 0.1 ' ' 1\n",
       "\n",
       "Residual standard error: 0.6231 on 118 degrees of freedom\n",
       "Multiple R-squared:  0.07262,\tAdjusted R-squared:  0.06476 \n",
       "F-statistic:  9.24 on 1 and 118 DF,  p-value: 0.002917\n"
      ]
     },
     "metadata": {},
     "output_type": "display_data"
    }
   ],
   "source": [
    "summary(regModel)"
   ]
  },
  {
   "cell_type": "markdown",
   "id": "3f1fade8",
   "metadata": {},
   "source": [
    "#### Multiple R-squared: 0.07262"
   ]
  },
  {
   "cell_type": "markdown",
   "id": "19653f5f-24ce-4437-afbc-152cd0c991ce",
   "metadata": {},
   "source": [
    "## (q)"
   ]
  },
  {
   "cell_type": "code",
   "execution_count": 17,
   "id": "11931114-15c1-454a-bc92-d3419207f39a",
   "metadata": {},
   "outputs": [],
   "source": [
    "Dat_filtered <- Dat[Dat$ACT == 28,]"
   ]
  },
  {
   "cell_type": "code",
   "execution_count": 18,
   "id": "44766430",
   "metadata": {},
   "outputs": [],
   "source": [
    "model_28 <- lm(Dat$GPA ~ 1, Dat_filtered)"
   ]
  },
  {
   "cell_type": "code",
   "execution_count": 19,
   "id": "7998ff51",
   "metadata": {},
   "outputs": [
    {
     "data": {
      "text/plain": [
       "\n",
       "Call:\n",
       "lm(formula = Dat$GPA ~ 1, data = Dat_filtered)\n",
       "\n",
       "Residuals:\n",
       "     Min       1Q   Median       3Q      Max \n",
       "-2.57405 -0.38530  0.00345  0.51920  0.92595 \n",
       "\n",
       "Coefficients:\n",
       "            Estimate Std. Error t value Pr(>|t|)    \n",
       "(Intercept)  3.07405    0.05882   52.26   <2e-16 ***\n",
       "---\n",
       "Signif. codes:  0 '***' 0.001 '**' 0.01 '*' 0.05 '.' 0.1 ' ' 1\n",
       "\n",
       "Residual standard error: 0.6443 on 119 degrees of freedom\n"
      ]
     },
     "metadata": {},
     "output_type": "display_data"
    }
   ],
   "source": [
    "summary(model_28)"
   ]
  },
  {
   "cell_type": "code",
   "execution_count": 20,
   "id": "953610ff",
   "metadata": {},
   "outputs": [
    {
     "data": {
      "text/plain": [
       "      GPA             ACT    \n",
       " Min.   :2.420   Min.   :28  \n",
       " 1st Qu.:3.100   1st Qu.:28  \n",
       " Median :3.676   Median :28  \n",
       " Mean   :3.469   Mean   :28  \n",
       " 3rd Qu.:3.788   3rd Qu.:28  \n",
       " Max.   :4.000   Max.   :28  "
      ]
     },
     "metadata": {},
     "output_type": "display_data"
    }
   ],
   "source": [
    "summary(Dat_filtered)"
   ]
  },
  {
   "cell_type": "code",
   "execution_count": 21,
   "id": "451adae7-edc4-4900-95b1-9b680a7171d9",
   "metadata": {},
   "outputs": [
    {
     "data": {
      "text/html": [
       "<table>\n",
       "<thead><tr><th></th><th scope=col>GPA</th><th scope=col>ACT</th></tr></thead>\n",
       "<tbody>\n",
       "\t<tr><th scope=row>3</th><td>3.778</td><td>28   </td></tr>\n",
       "\t<tr><th scope=row>23</th><td>3.731</td><td>28   </td></tr>\n",
       "\t<tr><th scope=row>25</th><td>3.556</td><td>28   </td></tr>\n",
       "\t<tr><th scope=row>27</th><td>2.420</td><td>28   </td></tr>\n",
       "\t<tr><th scope=row>33</th><td>2.929</td><td>28   </td></tr>\n",
       "\t<tr><th scope=row>79</th><td>4.000</td><td>28   </td></tr>\n",
       "</tbody>\n",
       "</table>\n"
      ],
      "text/latex": [
       "\\begin{tabular}{r|ll}\n",
       "  & GPA & ACT\\\\\n",
       "\\hline\n",
       "\t3 & 3.778 & 28   \\\\\n",
       "\t23 & 3.731 & 28   \\\\\n",
       "\t25 & 3.556 & 28   \\\\\n",
       "\t27 & 2.420 & 28   \\\\\n",
       "\t33 & 2.929 & 28   \\\\\n",
       "\t79 & 4.000 & 28   \\\\\n",
       "\\end{tabular}\n"
      ],
      "text/markdown": [
       "\n",
       "| <!--/--> | GPA | ACT |\n",
       "|---|---|---|\n",
       "| 3 | 3.778 | 28    |\n",
       "| 23 | 3.731 | 28    |\n",
       "| 25 | 3.556 | 28    |\n",
       "| 27 | 2.420 | 28    |\n",
       "| 33 | 2.929 | 28    |\n",
       "| 79 | 4.000 | 28    |\n",
       "\n"
      ],
      "text/plain": [
       "   GPA   ACT\n",
       "3  3.778 28 \n",
       "23 3.731 28 \n",
       "25 3.556 28 \n",
       "27 2.420 28 \n",
       "33 2.929 28 \n",
       "79 4.000 28 "
      ]
     },
     "metadata": {},
     "output_type": "display_data"
    }
   ],
   "source": [
    "head(Dat_filtered)"
   ]
  },
  {
   "cell_type": "code",
   "execution_count": 22,
   "id": "c0a51e78-09f8-4c69-b414-5612140b4f17",
   "metadata": {},
   "outputs": [
    {
     "data": {
      "text/html": [
       "<table>\n",
       "<thead><tr><th></th><th scope=col>2.5 %</th><th scope=col>97.5 %</th></tr></thead>\n",
       "<tbody>\n",
       "\t<tr><th scope=row>(Intercept)</th><td>2.957581</td><td>3.190519</td></tr>\n",
       "</tbody>\n",
       "</table>\n"
      ],
      "text/latex": [
       "\\begin{tabular}{r|ll}\n",
       "  & 2.5 \\% & 97.5 \\%\\\\\n",
       "\\hline\n",
       "\t(Intercept) & 2.957581 & 3.190519\\\\\n",
       "\\end{tabular}\n"
      ],
      "text/markdown": [
       "\n",
       "| <!--/--> | 2.5 % | 97.5 % |\n",
       "|---|---|---|\n",
       "| (Intercept) | 2.957581 | 3.190519 |\n",
       "\n"
      ],
      "text/plain": [
       "            2.5 %    97.5 %  \n",
       "(Intercept) 2.957581 3.190519"
      ]
     },
     "metadata": {},
     "output_type": "display_data"
    }
   ],
   "source": [
    "confint(model_28, level = 0.95)"
   ]
  }
 ],
 "metadata": {
  "kernelspec": {
   "display_name": "R",
   "language": "R",
   "name": "ir"
  },
  "language_info": {
   "codemirror_mode": "r",
   "file_extension": ".r",
   "mimetype": "text/x-r-source",
   "name": "R",
   "pygments_lexer": "r",
   "version": "3.6.1"
  }
 },
 "nbformat": 4,
 "nbformat_minor": 5
}
